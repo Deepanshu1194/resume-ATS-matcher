{
 "cells": [
  {
   "cell_type": "code",
   "execution_count": 1,
   "id": "3ac121d3-0936-4de3-97d8-daeb8aadd85f",
   "metadata": {},
   "outputs": [
    {
     "name": "stdout",
     "output_type": "stream",
     "text": [
      "Requirement already satisfied: spacy in c:\\users\\deepa\\.vscode\\anaconda\\lib\\site-packages (3.7.5)\n",
      "Collecting sentence-transformers\n",
      "  Downloading sentence_transformers-3.3.1-py3-none-any.whl.metadata (10 kB)\n",
      "Requirement already satisfied: scikit-learn in c:\\users\\deepa\\.vscode\\anaconda\\lib\\site-packages (1.5.1)\n",
      "Collecting pdfminer.six\n",
      "  Downloading pdfminer.six-20240706-py3-none-any.whl.metadata (4.1 kB)\n",
      "Collecting python-docx\n",
      "  Downloading python_docx-1.1.2-py3-none-any.whl.metadata (2.0 kB)\n",
      "Requirement already satisfied: matplotlib in c:\\users\\deepa\\.vscode\\anaconda\\lib\\site-packages (3.9.2)\n",
      "Requirement already satisfied: nltk in c:\\users\\deepa\\.vscode\\anaconda\\lib\\site-packages (3.9.1)\n",
      "Requirement already satisfied: spacy-legacy<3.1.0,>=3.0.11 in c:\\users\\deepa\\.vscode\\anaconda\\lib\\site-packages (from spacy) (3.0.12)\n",
      "Requirement already satisfied: spacy-loggers<2.0.0,>=1.0.0 in c:\\users\\deepa\\.vscode\\anaconda\\lib\\site-packages (from spacy) (1.0.5)\n",
      "Requirement already satisfied: murmurhash<1.1.0,>=0.28.0 in c:\\users\\deepa\\.vscode\\anaconda\\lib\\site-packages (from spacy) (1.0.10)\n",
      "Requirement already satisfied: cymem<2.1.0,>=2.0.2 in c:\\users\\deepa\\.vscode\\anaconda\\lib\\site-packages (from spacy) (2.0.8)\n",
      "Requirement already satisfied: preshed<3.1.0,>=3.0.2 in c:\\users\\deepa\\.vscode\\anaconda\\lib\\site-packages (from spacy) (3.0.9)\n",
      "Requirement already satisfied: thinc<8.3.0,>=8.2.2 in c:\\users\\deepa\\.vscode\\anaconda\\lib\\site-packages (from spacy) (8.2.5)\n",
      "Requirement already satisfied: wasabi<1.2.0,>=0.9.1 in c:\\users\\deepa\\.vscode\\anaconda\\lib\\site-packages (from spacy) (1.1.3)\n",
      "Requirement already satisfied: srsly<3.0.0,>=2.4.3 in c:\\users\\deepa\\.vscode\\anaconda\\lib\\site-packages (from spacy) (2.4.8)\n",
      "Requirement already satisfied: catalogue<2.1.0,>=2.0.6 in c:\\users\\deepa\\.vscode\\anaconda\\lib\\site-packages (from spacy) (2.0.10)\n",
      "Requirement already satisfied: weasel<0.5.0,>=0.1.0 in c:\\users\\deepa\\.vscode\\anaconda\\lib\\site-packages (from spacy) (0.4.1)\n",
      "Requirement already satisfied: typer<1.0.0,>=0.3.0 in c:\\users\\deepa\\.vscode\\anaconda\\lib\\site-packages (from spacy) (0.9.0)\n",
      "Requirement already satisfied: tqdm<5.0.0,>=4.38.0 in c:\\users\\deepa\\.vscode\\anaconda\\lib\\site-packages (from spacy) (4.66.5)\n",
      "Requirement already satisfied: requests<3.0.0,>=2.13.0 in c:\\users\\deepa\\.vscode\\anaconda\\lib\\site-packages (from spacy) (2.32.3)\n",
      "Requirement already satisfied: pydantic!=1.8,!=1.8.1,<3.0.0,>=1.7.4 in c:\\users\\deepa\\.vscode\\anaconda\\lib\\site-packages (from spacy) (2.8.2)\n",
      "Requirement already satisfied: jinja2 in c:\\users\\deepa\\.vscode\\anaconda\\lib\\site-packages (from spacy) (3.1.4)\n",
      "Requirement already satisfied: setuptools in c:\\users\\deepa\\.vscode\\anaconda\\lib\\site-packages (from spacy) (75.1.0)\n",
      "Requirement already satisfied: packaging>=20.0 in c:\\users\\deepa\\.vscode\\anaconda\\lib\\site-packages (from spacy) (24.1)\n",
      "Requirement already satisfied: langcodes<4.0.0,>=3.2.0 in c:\\users\\deepa\\.vscode\\anaconda\\lib\\site-packages (from spacy) (3.4.1)\n",
      "Requirement already satisfied: numpy>=1.19.0 in c:\\users\\deepa\\.vscode\\anaconda\\lib\\site-packages (from spacy) (1.23.0)\n",
      "Requirement already satisfied: transformers<5.0.0,>=4.41.0 in c:\\users\\deepa\\.vscode\\anaconda\\lib\\site-packages (from sentence-transformers) (4.45.2)\n",
      "Collecting torch>=1.11.0 (from sentence-transformers)\n",
      "  Downloading torch-2.5.1-cp39-cp39-win_amd64.whl.metadata (28 kB)\n",
      "Requirement already satisfied: scipy in c:\\users\\deepa\\.vscode\\anaconda\\lib\\site-packages (from sentence-transformers) (1.13.1)\n",
      "Requirement already satisfied: huggingface-hub>=0.20.0 in c:\\users\\deepa\\.vscode\\anaconda\\lib\\site-packages (from sentence-transformers) (0.24.6)\n",
      "Requirement already satisfied: Pillow in c:\\users\\deepa\\.vscode\\anaconda\\lib\\site-packages (from sentence-transformers) (10.4.0)\n",
      "Requirement already satisfied: joblib>=1.2.0 in c:\\users\\deepa\\.vscode\\anaconda\\lib\\site-packages (from scikit-learn) (1.4.2)\n",
      "Requirement already satisfied: threadpoolctl>=3.1.0 in c:\\users\\deepa\\.vscode\\anaconda\\lib\\site-packages (from scikit-learn) (3.5.0)\n",
      "Requirement already satisfied: charset-normalizer>=2.0.0 in c:\\users\\deepa\\.vscode\\anaconda\\lib\\site-packages (from pdfminer.six) (3.3.2)\n",
      "Requirement already satisfied: cryptography>=36.0.0 in c:\\users\\deepa\\.vscode\\anaconda\\lib\\site-packages (from pdfminer.six) (43.0.0)\n",
      "Requirement already satisfied: lxml>=3.1.0 in c:\\users\\deepa\\.vscode\\anaconda\\lib\\site-packages (from python-docx) (4.6.3)\n",
      "Requirement already satisfied: typing-extensions>=4.9.0 in c:\\users\\deepa\\.vscode\\anaconda\\lib\\site-packages (from python-docx) (4.11.0)\n",
      "Requirement already satisfied: contourpy>=1.0.1 in c:\\users\\deepa\\.vscode\\anaconda\\lib\\site-packages (from matplotlib) (1.2.0)\n",
      "Requirement already satisfied: cycler>=0.10 in c:\\users\\deepa\\.vscode\\anaconda\\lib\\site-packages (from matplotlib) (0.11.0)\n",
      "Requirement already satisfied: fonttools>=4.22.0 in c:\\users\\deepa\\.vscode\\anaconda\\lib\\site-packages (from matplotlib) (4.51.0)\n",
      "Requirement already satisfied: kiwisolver>=1.3.1 in c:\\users\\deepa\\.vscode\\anaconda\\lib\\site-packages (from matplotlib) (1.4.4)\n",
      "Requirement already satisfied: pyparsing>=2.3.1 in c:\\users\\deepa\\.vscode\\anaconda\\lib\\site-packages (from matplotlib) (3.2.0)\n",
      "Requirement already satisfied: python-dateutil>=2.7 in c:\\users\\deepa\\.vscode\\anaconda\\lib\\site-packages (from matplotlib) (2.9.0.post0)\n",
      "Requirement already satisfied: importlib-resources>=3.2.0 in c:\\users\\deepa\\.vscode\\anaconda\\lib\\site-packages (from matplotlib) (6.4.0)\n",
      "Requirement already satisfied: click in c:\\users\\deepa\\.vscode\\anaconda\\lib\\site-packages (from nltk) (8.1.7)\n",
      "Requirement already satisfied: regex>=2021.8.3 in c:\\users\\deepa\\.vscode\\anaconda\\lib\\site-packages (from nltk) (2024.9.11)\n",
      "Requirement already satisfied: cffi>=1.12 in c:\\users\\deepa\\.vscode\\anaconda\\lib\\site-packages (from cryptography>=36.0.0->pdfminer.six) (1.17.1)\n",
      "Requirement already satisfied: filelock in c:\\users\\deepa\\.vscode\\anaconda\\lib\\site-packages (from huggingface-hub>=0.20.0->sentence-transformers) (3.13.1)\n",
      "Requirement already satisfied: fsspec>=2023.5.0 in c:\\users\\deepa\\.vscode\\anaconda\\lib\\site-packages (from huggingface-hub>=0.20.0->sentence-transformers) (2024.3.1)\n",
      "Requirement already satisfied: pyyaml>=5.1 in c:\\users\\deepa\\.vscode\\anaconda\\lib\\site-packages (from huggingface-hub>=0.20.0->sentence-transformers) (6.0.2)\n",
      "Requirement already satisfied: zipp>=3.1.0 in c:\\users\\deepa\\.vscode\\anaconda\\lib\\site-packages (from importlib-resources>=3.2.0->matplotlib) (3.20.2)\n",
      "Requirement already satisfied: language-data>=1.2 in c:\\users\\deepa\\.vscode\\anaconda\\lib\\site-packages (from langcodes<4.0.0,>=3.2.0->spacy) (1.2.0)\n",
      "Requirement already satisfied: annotated-types>=0.4.0 in c:\\users\\deepa\\.vscode\\anaconda\\lib\\site-packages (from pydantic!=1.8,!=1.8.1,<3.0.0,>=1.7.4->spacy) (0.6.0)\n",
      "Requirement already satisfied: pydantic-core==2.20.1 in c:\\users\\deepa\\.vscode\\anaconda\\lib\\site-packages (from pydantic!=1.8,!=1.8.1,<3.0.0,>=1.7.4->spacy) (2.20.1)\n",
      "Requirement already satisfied: six>=1.5 in c:\\users\\deepa\\.vscode\\anaconda\\lib\\site-packages (from python-dateutil>=2.7->matplotlib) (1.16.0)\n",
      "Requirement already satisfied: idna<4,>=2.5 in c:\\users\\deepa\\.vscode\\anaconda\\lib\\site-packages (from requests<3.0.0,>=2.13.0->spacy) (3.7)\n",
      "Requirement already satisfied: urllib3<3,>=1.21.1 in c:\\users\\deepa\\.vscode\\anaconda\\lib\\site-packages (from requests<3.0.0,>=2.13.0->spacy) (2.2.3)\n",
      "Requirement already satisfied: certifi>=2017.4.17 in c:\\users\\deepa\\.vscode\\anaconda\\lib\\site-packages (from requests<3.0.0,>=2.13.0->spacy) (2022.12.7)\n",
      "Requirement already satisfied: blis<0.8.0,>=0.7.8 in c:\\users\\deepa\\.vscode\\anaconda\\lib\\site-packages (from thinc<8.3.0,>=8.2.2->spacy) (0.7.11)\n",
      "Requirement already satisfied: confection<1.0.0,>=0.0.1 in c:\\users\\deepa\\.vscode\\anaconda\\lib\\site-packages (from thinc<8.3.0,>=8.2.2->spacy) (0.1.5)\n",
      "Requirement already satisfied: networkx in c:\\users\\deepa\\.vscode\\anaconda\\lib\\site-packages (from torch>=1.11.0->sentence-transformers) (3.2.1)\n",
      "Collecting sympy==1.13.1 (from torch>=1.11.0->sentence-transformers)\n",
      "  Downloading sympy-1.13.1-py3-none-any.whl.metadata (12 kB)\n",
      "Requirement already satisfied: mpmath<1.4,>=1.1.0 in c:\\users\\deepa\\.vscode\\anaconda\\lib\\site-packages (from sympy==1.13.1->torch>=1.11.0->sentence-transformers) (1.3.0)\n",
      "Requirement already satisfied: colorama in c:\\users\\deepa\\.vscode\\anaconda\\lib\\site-packages (from tqdm<5.0.0,>=4.38.0->spacy) (0.4.6)\n",
      "Requirement already satisfied: tokenizers<0.21,>=0.20 in c:\\users\\deepa\\.vscode\\anaconda\\lib\\site-packages (from transformers<5.0.0,>=4.41.0->sentence-transformers) (0.20.1)\n",
      "Requirement already satisfied: safetensors>=0.4.1 in c:\\users\\deepa\\.vscode\\anaconda\\lib\\site-packages (from transformers<5.0.0,>=4.41.0->sentence-transformers) (0.4.5)\n",
      "Requirement already satisfied: cloudpathlib<1.0.0,>=0.7.0 in c:\\users\\deepa\\.vscode\\anaconda\\lib\\site-packages (from weasel<0.5.0,>=0.1.0->spacy) (0.20.0)\n",
      "Requirement already satisfied: smart-open<8.0.0,>=5.2.1 in c:\\users\\deepa\\.vscode\\anaconda\\lib\\site-packages (from weasel<0.5.0,>=0.1.0->spacy) (5.2.1)\n",
      "Requirement already satisfied: MarkupSafe>=2.0 in c:\\users\\deepa\\.vscode\\anaconda\\lib\\site-packages (from jinja2->spacy) (2.1.3)\n",
      "Requirement already satisfied: pycparser in c:\\users\\deepa\\.vscode\\anaconda\\lib\\site-packages (from cffi>=1.12->cryptography>=36.0.0->pdfminer.six) (2.21)\n",
      "Requirement already satisfied: marisa-trie>=0.7.7 in c:\\users\\deepa\\.vscode\\anaconda\\lib\\site-packages (from language-data>=1.2->langcodes<4.0.0,>=3.2.0->spacy) (1.2.1)\n",
      "Downloading sentence_transformers-3.3.1-py3-none-any.whl (268 kB)\n",
      "Downloading pdfminer.six-20240706-py3-none-any.whl (5.6 MB)\n",
      "   ---------------------------------------- 0.0/5.6 MB ? eta -:--:--\n",
      "   ---------------------------------------- 5.6/5.6 MB 48.7 MB/s eta 0:00:00\n",
      "Downloading python_docx-1.1.2-py3-none-any.whl (244 kB)\n",
      "Downloading torch-2.5.1-cp39-cp39-win_amd64.whl (203.0 MB)\n",
      "   ---------------------------------------- 0.0/203.0 MB ? eta -:--:--\n",
      "   -- ------------------------------------- 10.5/203.0 MB 50.4 MB/s eta 0:00:04\n",
      "   ------ --------------------------------- 31.5/203.0 MB 73.9 MB/s eta 0:00:03\n",
      "   --------- ------------------------------ 47.4/203.0 MB 75.5 MB/s eta 0:00:03\n",
      "   ------------- -------------------------- 66.3/203.0 MB 78.3 MB/s eta 0:00:02\n",
      "   ---------------- ----------------------- 83.4/203.0 MB 79.4 MB/s eta 0:00:02\n",
      "   ------------------- ------------------- 100.4/203.0 MB 79.1 MB/s eta 0:00:02\n",
      "   ---------------------- ---------------- 117.4/203.0 MB 79.8 MB/s eta 0:00:02\n",
      "   -------------------------- ------------ 138.4/203.0 MB 81.8 MB/s eta 0:00:01\n",
      "   ------------------------------ -------- 157.3/203.0 MB 82.3 MB/s eta 0:00:01\n",
      "   ---------------------------------- ---- 177.2/203.0 MB 83.9 MB/s eta 0:00:01\n",
      "   --------------------------------------  198.7/203.0 MB 85.2 MB/s eta 0:00:01\n",
      "   --------------------------------------  202.9/203.0 MB 85.3 MB/s eta 0:00:01\n",
      "   --------------------------------------  202.9/203.0 MB 85.3 MB/s eta 0:00:01\n",
      "   --------------------------------------  202.9/203.0 MB 85.3 MB/s eta 0:00:01\n",
      "   --------------------------------------  202.9/203.0 MB 85.3 MB/s eta 0:00:01\n",
      "   --------------------------------------- 203.0/203.0 MB 61.8 MB/s eta 0:00:00\n",
      "Downloading sympy-1.13.1-py3-none-any.whl (6.2 MB)\n",
      "   ---------------------------------------- 0.0/6.2 MB ? eta -:--:--\n",
      "   ---------------------------------------- 6.2/6.2 MB 53.9 MB/s eta 0:00:00\n",
      "Installing collected packages: sympy, python-docx, torch, pdfminer.six, sentence-transformers\n",
      "  Attempting uninstall: sympy\n",
      "    Found existing installation: sympy 1.13.2\n",
      "    Uninstalling sympy-1.13.2:\n",
      "      Successfully uninstalled sympy-1.13.2\n",
      "Successfully installed pdfminer.six-20240706 python-docx-1.1.2 sentence-transformers-3.3.1 sympy-1.13.1 torch-2.5.1\n"
     ]
    },
    {
     "name": "stderr",
     "output_type": "stream",
     "text": [
      "[nltk_data] Downloading package stopwords to\n",
      "[nltk_data]     C:\\Users\\deepa\\AppData\\Roaming\\nltk_data...\n",
      "[nltk_data]   Package stopwords is already up-to-date!\n"
     ]
    },
    {
     "data": {
      "text/plain": [
       "True"
      ]
     },
     "execution_count": 1,
     "metadata": {},
     "output_type": "execute_result"
    }
   ],
   "source": [
    "# Install necessary libraries\n",
    "!pip install spacy sentence-transformers scikit-learn pdfminer.six python-docx matplotlib nltk\n",
    "\n",
    "import os\n",
    "import json\n",
    "import docx\n",
    "import spacy\n",
    "from pdfminer.high_level import extract_text\n",
    "from sentence_transformers import SentenceTransformer, util\n",
    "import matplotlib.pyplot as plt\n",
    "from nltk.corpus import stopwords\n",
    "from collections import Counter\n",
    "from sklearn.feature_extraction.text import TfidfVectorizer\n",
    "\n",
    "# Load NLTK stopwords\n",
    "import nltk\n",
    "nltk.download('stopwords')"
   ]
  },
  {
   "cell_type": "code",
   "execution_count": 2,
   "id": "b2faf68b-3d9c-46cf-aca4-92fd5c144369",
   "metadata": {},
   "outputs": [
    {
     "data": {
      "application/vnd.jupyter.widget-view+json": {
       "model_id": "4b2e0f0d258b477388f7139eb68a40ea",
       "version_major": 2,
       "version_minor": 0
      },
      "text/plain": [
       "modules.json:   0%|          | 0.00/349 [00:00<?, ?B/s]"
      ]
     },
     "metadata": {},
     "output_type": "display_data"
    },
    {
     "name": "stderr",
     "output_type": "stream",
     "text": [
      "C:\\Users\\deepa\\.vscode\\Anaconda\\lib\\site-packages\\huggingface_hub\\file_download.py:159: UserWarning: `huggingface_hub` cache-system uses symlinks by default to efficiently store duplicated files but your machine does not support them in C:\\Users\\deepa\\.cache\\huggingface\\hub\\models--sentence-transformers--all-MiniLM-L6-v2. Caching files will still work but in a degraded version that might require more space on your disk. This warning can be disabled by setting the `HF_HUB_DISABLE_SYMLINKS_WARNING` environment variable. For more details, see https://huggingface.co/docs/huggingface_hub/how-to-cache#limitations.\n",
      "To support symlinks on Windows, you either need to activate Developer Mode or to run Python as an administrator. In order to see activate developer mode, see this article: https://docs.microsoft.com/en-us/windows/apps/get-started/enable-your-device-for-development\n",
      "  warnings.warn(message)\n"
     ]
    },
    {
     "data": {
      "application/vnd.jupyter.widget-view+json": {
       "model_id": "c390afc0cb7a4ae9a0f26d560c620b5f",
       "version_major": 2,
       "version_minor": 0
      },
      "text/plain": [
       "config_sentence_transformers.json:   0%|          | 0.00/116 [00:00<?, ?B/s]"
      ]
     },
     "metadata": {},
     "output_type": "display_data"
    },
    {
     "data": {
      "application/vnd.jupyter.widget-view+json": {
       "model_id": "339e5062b81f4965bd8ef318d6ca5f6e",
       "version_major": 2,
       "version_minor": 0
      },
      "text/plain": [
       "README.md:   0%|          | 0.00/10.7k [00:00<?, ?B/s]"
      ]
     },
     "metadata": {},
     "output_type": "display_data"
    },
    {
     "data": {
      "application/vnd.jupyter.widget-view+json": {
       "model_id": "eea4c2d2ed0f4c7e9efa25278f9901de",
       "version_major": 2,
       "version_minor": 0
      },
      "text/plain": [
       "sentence_bert_config.json:   0%|          | 0.00/53.0 [00:00<?, ?B/s]"
      ]
     },
     "metadata": {},
     "output_type": "display_data"
    },
    {
     "data": {
      "application/vnd.jupyter.widget-view+json": {
       "model_id": "1e9d159f5f5444bb81868383805bd17d",
       "version_major": 2,
       "version_minor": 0
      },
      "text/plain": [
       "config.json:   0%|          | 0.00/612 [00:00<?, ?B/s]"
      ]
     },
     "metadata": {},
     "output_type": "display_data"
    },
    {
     "data": {
      "application/vnd.jupyter.widget-view+json": {
       "model_id": "4c8b0f2b1da94b0888ba8daa01dd4127",
       "version_major": 2,
       "version_minor": 0
      },
      "text/plain": [
       "model.safetensors:   0%|          | 0.00/90.9M [00:00<?, ?B/s]"
      ]
     },
     "metadata": {},
     "output_type": "display_data"
    },
    {
     "data": {
      "application/vnd.jupyter.widget-view+json": {
       "model_id": "3f3417a1b1fa400c8b807872fbb6cb9c",
       "version_major": 2,
       "version_minor": 0
      },
      "text/plain": [
       "tokenizer_config.json:   0%|          | 0.00/350 [00:00<?, ?B/s]"
      ]
     },
     "metadata": {},
     "output_type": "display_data"
    },
    {
     "data": {
      "application/vnd.jupyter.widget-view+json": {
       "model_id": "339665cec9444f9ca82f5af6ef73c0c0",
       "version_major": 2,
       "version_minor": 0
      },
      "text/plain": [
       "vocab.txt:   0%|          | 0.00/232k [00:00<?, ?B/s]"
      ]
     },
     "metadata": {},
     "output_type": "display_data"
    },
    {
     "data": {
      "application/vnd.jupyter.widget-view+json": {
       "model_id": "ada959dbe0d14aa09be9f1b4f41a54ab",
       "version_major": 2,
       "version_minor": 0
      },
      "text/plain": [
       "tokenizer.json:   0%|          | 0.00/466k [00:00<?, ?B/s]"
      ]
     },
     "metadata": {},
     "output_type": "display_data"
    },
    {
     "data": {
      "application/vnd.jupyter.widget-view+json": {
       "model_id": "edc91ba05e0f40d0a50572862945157c",
       "version_major": 2,
       "version_minor": 0
      },
      "text/plain": [
       "special_tokens_map.json:   0%|          | 0.00/112 [00:00<?, ?B/s]"
      ]
     },
     "metadata": {},
     "output_type": "display_data"
    },
    {
     "data": {
      "application/vnd.jupyter.widget-view+json": {
       "model_id": "4604cd541fb0467c9b24eebbe1e4b623",
       "version_major": 2,
       "version_minor": 0
      },
      "text/plain": [
       "1_Pooling/config.json:   0%|          | 0.00/190 [00:00<?, ?B/s]"
      ]
     },
     "metadata": {},
     "output_type": "display_data"
    }
   ],
   "source": [
    "# Load spaCy model\n",
    "nlp = spacy.load(\"en_core_web_sm\")\n",
    "\n",
    "# Load SBERT model\n",
    "sbert_model = SentenceTransformer('all-MiniLM-L6-v2')"
   ]
  },
  {
   "cell_type": "code",
   "execution_count": 25,
   "id": "c4089a19-3eb6-4225-9b32-97beb5a9b9ad",
   "metadata": {},
   "outputs": [],
   "source": [
    "def preprocess_text(text):\n",
    "    doc = nlp(text.lower())\n",
    "    stop_words = set(stopwords.words(\"english\"))\n",
    "    # Focus on nouns, verbs, and named entities\n",
    "    cleaned_text = [\n",
    "        token.lemma_\n",
    "        for token in doc\n",
    "        if token.text not in stop_words and token.is_alpha and (token.pos_ in {\"NOUN\", \"VERB\"} or token.ent_type_)\n",
    "    ]\n",
    "    return \" \".join(cleaned_text)"
   ]
  },
  {
   "cell_type": "code",
   "execution_count": 7,
   "id": "57d3ed30-7e5e-409f-9660-398eed5d48f6",
   "metadata": {},
   "outputs": [],
   "source": [
    "# Extract text from PDF\n",
    "def extract_pdf_text(file_path):\n",
    "    return extract_text(file_path)\n",
    "\n",
    "# Extract text from DOCX\n",
    "def extract_docx_text(file_path):\n",
    "    doc = docx.Document(file_path)\n",
    "    text = \"\"\n",
    "    for para in doc.paragraphs:\n",
    "        text += para.text + \"\\n\"\n",
    "    return text"
   ]
  },
  {
   "cell_type": "code",
   "execution_count": 9,
   "id": "6cc95267-9643-490e-9d89-51c3615fadf8",
   "metadata": {},
   "outputs": [],
   "source": [
    "def extract_section(text, section_name):\n",
    "    # Define common section headers for resumes\n",
    "    section_headers = {\n",
    "        \"skills\": [\"skills\", \"technical skills\", \"key skills\"],\n",
    "        \"experience\": [\"experience\", \"work experience\", \"professional experience\",\"project\"],\n",
    "        \"education\": [\"education\", \"academic qualifications\", \"qualifications\"]\n",
    "    }\n",
    "\n",
    "    # Identify section header\n",
    "    section_start = None\n",
    "    section_end = None\n",
    "\n",
    "    lines = text.split(\"\\n\")\n",
    "    for i, line in enumerate(lines):\n",
    "        if any(header in line.lower() for header in section_headers.get(section_name, [])):\n",
    "            section_start = i\n",
    "            break\n",
    "\n",
    "    if section_start is not None:\n",
    "        # Look for the next header or end of text\n",
    "        for j in range(section_start + 1, len(lines)):\n",
    "            if any(header in lines[j].lower() for header in section_headers.values()):\n",
    "                section_end = j\n",
    "                break\n",
    "\n",
    "    # Extract section content\n",
    "    if section_start is not None:\n",
    "        if section_end is None:\n",
    "            section_end = len(lines)\n",
    "        return \" \".join(lines[section_start:section_end])\n",
    "\n",
    "    return None  # Section not found\n"
   ]
  },
  {
   "cell_type": "code",
   "execution_count": 11,
   "id": "4dd1cd12-3bbe-46f2-829d-4b4a172b0d6d",
   "metadata": {},
   "outputs": [],
   "source": [
    "def compute_sectional_similarity(resume_text, job_desc_text):\n",
    "    sections = [\"skills\", \"experience\", \"education\"]\n",
    "    scores = {}\n",
    "\n",
    "    for section in sections:\n",
    "        # Extract relevant section text (implement extraction logic as needed)\n",
    "        resume_section = extract_section(resume_text, section)\n",
    "        job_desc_section = extract_section(job_desc_text, section)\n",
    "        if resume_section and job_desc_section:\n",
    "            scores[section] = compute_semantic_similarity(resume_section, job_desc_section)\n",
    "\n",
    "    # Weighted average based on section importance\n",
    "    weighted_score = (\n",
    "        scores.get(\"skills\", 0) * 0.4 +\n",
    "        scores.get(\"experience\", 0) * 0.4 +\n",
    "        scores.get(\"education\", 0) * 0.2\n",
    "    )\n",
    "    return weighted_score, scores"
   ]
  },
  {
   "cell_type": "code",
   "execution_count": 13,
   "id": "0c69f51c-94ea-401a-bf33-349596d568ad",
   "metadata": {},
   "outputs": [],
   "source": [
    "def compute_semantic_similarity(text1, text2):\n",
    "    # Generate embeddings\n",
    "    embedding1 = sbert_model.encode(text1, convert_to_tensor=True)\n",
    "    embedding2 = sbert_model.encode(text2, convert_to_tensor=True)\n",
    "    # Compute cosine similarity\n",
    "    similarity_score = util.pytorch_cos_sim(embedding1, embedding2)\n",
    "    return similarity_score.item()"
   ]
  },
  {
   "cell_type": "code",
   "execution_count": 15,
   "id": "5eb3ebff-0e16-43a5-810b-6e8b1133ab81",
   "metadata": {},
   "outputs": [],
   "source": [
    "def extract_important_keywords(text, top_n=10):\n",
    "    vectorizer = TfidfVectorizer(stop_words='english')\n",
    "    tfidf_matrix = vectorizer.fit_transform([text])\n",
    "    keywords = sorted(\n",
    "        zip(vectorizer.get_feature_names_out(), tfidf_matrix.toarray()[0]),\n",
    "        key=lambda x: x[1], reverse=True\n",
    "    )[:top_n]\n",
    "    return [keyword for keyword, score in keywords]"
   ]
  },
  {
   "cell_type": "code",
   "execution_count": 29,
   "id": "c9f8efb6-d70d-4152-9aa9-9fd935a52b54",
   "metadata": {},
   "outputs": [],
   "source": [
    "# Generate feedback based on keywords\n",
    "def generate_detailed_feedback(resume_keywords, job_desc_keywords):\n",
    "    matched = set(resume_keywords) & set(job_desc_keywords)\n",
    "    missing = set(job_desc_keywords) - set(resume_keywords)\n",
    "\n",
    "    missing_counter = Counter(missing)\n",
    "\n",
    "    # Prioritize top missing keywords\n",
    "    top_missing = [word for word, _ in missing_counter.most_common(10)]\n",
    "\n",
    "    return {\n",
    "        \"Matched Skills\": list(matched),\n",
    "        \"Missing Skills\": list(top_missing),\n",
    "        \"Suggestions\": [f\"Consider adding '{skill}' to your resume.\" for skill in top_missing]\n",
    "    }\n"
   ]
  },
  {
   "cell_type": "code",
   "execution_count": 37,
   "id": "8adc2dfc-ac3b-4462-82c2-b33ffc0f9c4b",
   "metadata": {},
   "outputs": [],
   "source": [
    "# Visualize similarity score\n",
    "def visualize_sectional_scores(similarity_score):\n",
    "    labels = ['Matched', 'Unmatched']\n",
    "    sizes = [similarity_score * 100, 100 - similarity_score * 100]\n",
    "    colors = ['#4CAF50', '#FF6347']\n",
    "\n",
    "    plt.pie(sizes, labels=labels, colors=colors, autopct='%1.1f%%', startangle=140)\n",
    "    plt.title(\"Resume Matching Score\")\n",
    "    plt.show()"
   ]
  },
  {
   "cell_type": "code",
   "execution_count": 21,
   "id": "ae0932c6-7adf-47f3-ab9a-be062f9ef33d",
   "metadata": {},
   "outputs": [],
   "source": [
    "def check_resume_match(resume_file, job_desc_text):\n",
    "    # Extract text from resume\n",
    "    if resume_file.lower().endswith('.pdf'):\n",
    "        resume_text = extract_pdf_text(resume_file)\n",
    "    elif resume_file.lower().endswith('.docx'):\n",
    "        resume_text = extract_docx_text(resume_file)\n",
    "    else:\n",
    "        raise ValueError(\"Unsupported file format. Use PDF or DOCX.\")\n",
    "\n",
    "    # Preprocess texts\n",
    "    processed_resume = preprocess_text(resume_text)\n",
    "    processed_job_desc = preprocess_text(job_desc_text)\n",
    "\n",
    "    # Check for empty processed text\n",
    "    if processed_resume == \"empty\" or processed_job_desc == \"empty\":\n",
    "        raise ValueError(\"Processed text is empty; ensure input documents contain meaningful content.\")\n",
    "\n",
    "    # Compute similarity\n",
    "    similarity_score = compute_semantic_similarity(processed_resume, processed_job_desc)\n",
    "\n",
    "    # Extract keywords for feedback\n",
    "    resume_keywords = processed_resume.split()\n",
    "    job_desc_keywords = processed_job_desc.split()\n",
    "\n",
    "    feedback = generate_detailed_feedback(resume_keywords, job_desc_keywords)\n",
    "\n",
    "    # Display similarity and feedback\n",
    "    print(f\"Similarity Score: {similarity_score * 100:.2f}%\")\n",
    "    print(\"\\nFeedback:\")\n",
    "    print(json.dumps(feedback, indent=4))\n",
    "\n",
    "    # Visualize the score\n",
    "    visualize_sectional_scores(similarity_score)\n",
    "\n",
    "    return similarity_score, feedback\n"
   ]
  },
  {
   "cell_type": "code",
   "execution_count": 39,
   "id": "eb2e4a9a-9910-473e-beb6-17351b37b4ab",
   "metadata": {},
   "outputs": [
    {
     "name": "stdout",
     "output_type": "stream",
     "text": [
      "Similarity Score: 70.91%\n",
      "\n",
      "Feedback:\n",
      "{\n",
      "    \"Matched Skills\": [\n",
      "        \"experience\",\n",
      "        \"python\",\n",
      "        \"base\",\n",
      "        \"solution\",\n",
      "        \"understanding\",\n",
      "        \"enhance\",\n",
      "        \"include\",\n",
      "        \"technology\",\n",
      "        \"science\",\n",
      "        \"professional\",\n",
      "        \"result\",\n",
      "        \"goal\",\n",
      "        \"standard\",\n",
      "        \"contribute\",\n",
      "        \"project\",\n",
      "        \"communication\",\n",
      "        \"objective\",\n",
      "        \"work\",\n",
      "        \"need\",\n",
      "        \"collaborate\",\n",
      "        \"provide\",\n",
      "        \"management\",\n",
      "        \"visualization\",\n",
      "        \"tableau\",\n",
      "        \"develop\",\n",
      "        \"knowledge\",\n",
      "        \"promote\",\n",
      "        \"product\",\n",
      "        \"planning\",\n",
      "        \"dataset\",\n",
      "        \"industry\",\n",
      "        \"business\",\n",
      "        \"outcome\",\n",
      "        \"program\",\n",
      "        \"certificate\",\n",
      "        \"information\",\n",
      "        \"education\",\n",
      "        \"sql\",\n",
      "        \"skill\",\n",
      "        \"level\",\n",
      "        \"model\",\n",
      "        \"machine\",\n",
      "        \"data\",\n",
      "        \"development\",\n",
      "        \"technique\",\n",
      "        \"create\",\n",
      "        \"tool\",\n",
      "        \"analysis\",\n",
      "        \"drive\",\n",
      "        \"lead\",\n",
      "        \"database\",\n",
      "        \"success\",\n",
      "        \"set\",\n",
      "        \"canada\",\n",
      "        \"client\",\n",
      "        \"diploma\",\n",
      "        \"leverage\",\n",
      "        \"aw\",\n",
      "        \"datum\",\n",
      "        \"ensure\",\n",
      "        \"software\",\n",
      "        \"postgresql\",\n",
      "        \"year\",\n",
      "        \"automate\",\n",
      "        \"learn\",\n",
      "        \"process\",\n",
      "        \"analyst\",\n",
      "        \"make\",\n",
      "        \"team\",\n",
      "        \"health\",\n",
      "        \"requirement\",\n",
      "        \"time\",\n",
      "        \"problem\"\n",
      "    ],\n",
      "    \"Missing Skills\": [\n",
      "        \"sustainable\",\n",
      "        \"share\",\n",
      "        \"synthesize\",\n",
      "        \"add\",\n",
      "        \"renewal\",\n",
      "        \"land\",\n",
      "        \"define\",\n",
      "        \"job\",\n",
      "        \"gathering\",\n",
      "        \"culture\"\n",
      "    ],\n",
      "    \"Suggestions\": [\n",
      "        \"Consider adding 'sustainable' to your resume.\",\n",
      "        \"Consider adding 'share' to your resume.\",\n",
      "        \"Consider adding 'synthesize' to your resume.\",\n",
      "        \"Consider adding 'add' to your resume.\",\n",
      "        \"Consider adding 'renewal' to your resume.\",\n",
      "        \"Consider adding 'land' to your resume.\",\n",
      "        \"Consider adding 'define' to your resume.\",\n",
      "        \"Consider adding 'job' to your resume.\",\n",
      "        \"Consider adding 'gathering' to your resume.\",\n",
      "        \"Consider adding 'culture' to your resume.\"\n",
      "    ]\n",
      "}\n"
     ]
    },
    {
     "data": {
      "image/png": "[encoded data removed]",
      "text/plain": [
       "<Figure size 640x480 with 1 Axes>"
      ]
     },
     "metadata": {},
     "output_type": "display_data"
    }
   ],
   "source": [
    "# Example job description\n",
    "job_desc_text = \"\"\"About the job\n",
    "Joining Arup\n",
    "\n",
    "At Arup we’re dedicated to sustainable development and to do socially useful work that has meaning.Our purpose, shared values and collaborative approach has set us apart for over 75 years, guiding how we shape a better world.\n",
    "\n",
    "We solve the world's most complex problems and deliver what seems impossible, with curiosity and creativity. We’re a thriving and growing organisation which offers you many possibilities to shape a better world, and your future.\n",
    "\n",
    "Our growing Digital Advisory, Software Development, Data, Geospatial team in Toronto, Ontario, Canada is seeking to recruit a Data Scientist / Analyst to join us. Our regional team is made up of a global group of geospatial professionals, software developers and digital consultants within Arup. We use our collective talents to incubate and deliver technology-led solutions to clients, and in doing so help transform the way that cities, buildings and physical networks are planned and delivered, to ensure a better world for all.\n",
    "\n",
    " The opportunity\n",
    "\n",
    "At Arup, you belong to an extraordinary collective – in which we encourage individuality to thrive. Our strength comes from how we respect, share and connect our diverse experiences, perspectives and ideas.\n",
    "\n",
    "You will have the opportunity do socially useful work that has meaning – to Arup, to your career, to our members and to the clients and communities we serve.\n",
    "\n",
    "Working as part of a growing team in Canada, and as the first Digital team member located in our Toronto office, you will be leading and/or delivering technical digital solutions related to environmental, planning and infrastructure aspects of local, national and international projects. You will work as part of a diverse, digitally minded team on projects of various types and scales, regularly cross-collaborating with other multi-disciplinary Arup teams and working closely with our clients to advise and to help shape a better world, one project at a time.\n",
    "\n",
    " Is this role right for you?\n",
    "\n",
    "Education and skills\n",
    " Undergraduate Degree or Certificate / Diploma in Data or Information Sciences, Artificial Intelligence (AI), Machine Learning (ML), Deep Learning (DL), GIS, Computer Science, Full-Stack Software Development, Engineering, Information Technology or similar digital discipline with a focus on data.\n",
    " At least three or more (3+) years of experience in providing data analytical techniques and automation solutions to business\n",
    " Solid experience with database architecture including defining data standards, database design and integration with proprietary project systems\n",
    " Experience working in SQL with experience in relational databases such as MS SQL Server, MySQL, PostgreSQL, or OracleProficiency with analytic tools such as Python, R and/or FME for data analysis, data engineering and automation tasks\n",
    "\n",
    "Experience\n",
    "Experience creating automated data workflows using commercial-off-the-shelf / low-code / no-code options such as Power Automates or scripting\n",
    "\n",
    "\n",
    " Ability to synthesize complex datasets and transform into visualizations using tools such as PowerBI, Tableau or other out of the box technology.\n",
    " Experience in requirements gathering, business process modeling and translating business needs into technical solutions, and ensuring alignment with overall project objectives.\n",
    " Awareness / basic knowledge of emerging technologies such as machine learning, AI and/or deep learning to enhance data processes\n",
    " Strong communication skills with the ability to engage with both technical and non-technical stakeholders\n",
    " Enjoys working as part of and actively contributing to a positive, inclusive, and supportive team culture.\n",
    "\n",
    "\n",
    "Preferred Qualifications\n",
    "\n",
    "The below qualifications are not mandatory, but are considered an asset:\n",
    "\n",
    "\n",
    " Master’s Degree or Advanced Certificate / Diploma in Degree or Post-Graduate Certificate / Diploma in Data or Information Sciences, Artificial Intelligence (AI), Machine Learning (ML), Deep Learning (DL), GIS, Computer Science, Full-Stack Software Development, Engineering, Information Technology or similar digital discipline with a focus on data.\n",
    " Experience working with / knowledge of data and information and document management server technologies such as AutoDesk Construction Cloud, ArcGIS Enterprise, ProjectWise, SharePoint, Aconex, Unifier, Asite among others.\n",
    " Experience working in compliance with data governance, data privacy regulations, and industry standards including application of ISO standards\n",
    " Good working knowledge or experience in Agile concepts to support the successful delivery of digital projects.\n",
    " Experience working with cloud technologies such as Azure, AWS, DataBricks\n",
    " Applied experience with / ability to leverage machine learning, AI and/or deep learning to enhance data processes\n",
    " Experience with scoping, planning and delivery of Proof-of-Concept (POC) and/or Minimum Viable Product (MVP) for research and development or conceptual test use cases.\n",
    " Working proficiency in reading, writing and speaking in both of Canada’s official languages – English and French.\n",
    "\n",
    "\n",
    "Please note that all applicants must apply directly via the job portal. If this role is not quite what you are looking for but you are interested in other opportunities for a future with purpose, please sign up to our Talent Community is where you will be kept up to date with roles suitable for you to shape a better world.\n",
    "\n",
    "What We Offer You\n",
    "\n",
    "At Arup, we care about each member’s success, so we can grow together.\n",
    "\n",
    "Guided by our values, we provide an attractive total reward package that recognizes the contribution of each of our members to our shared success. As well as competitive, fair and equitable pay, we offer a career in which all of our members can belong, grow and thrive – through benefits that support health and wellbeing, a wide range of learning opportunities and many possibilities to have an impact through the work they do.\n",
    "\n",
    "We are owned in trust on behalf of our members, giving us the freedom, with personal responsibility, to set our own direction and choose work that aligns with our purpose and adds to Arup’s legacy. Our members collaborate on ambitious projects to deliver remarkable outcomes for our clients and communities. Profit Share is a key part of our reward, enabling members to share in the results of our collective efforts.\n",
    "\n",
    "Benefits that Work - At Arup, we have a comprehensive and valuable benefits program that works for our employees and their families. These are 100% paid for by Arup except for optional life insurance. These benefits provide health and welfare security for you as well as paid time off for rest and renewal. Our Global Profit Share Plan (paid bi-annually) provides an opportunity for you to share in the success of the Firm. As a valued employee of Arup, you can also choose to participate in our GRRSP 5% company match to help you save for your future.\n",
    "\n",
    "Hiring Range - The good faith base salary hiring range for this job if performed in Toronto is $66,100 to $90,200 per year. This range is commensurate with experience, educational background, and skill level. Benefits are not included in the base salary. Please note hiring ranges for candidates performing work outside of Toronto will differ.\n",
    "\n",
    "Flexible Working - We believe that flexible arrangements create a more inclusive way of working that supports our diversity and the wellbeing of our people. Options for alternative schedules and the ability to work outside of the office for a portion of your workweek are available.\n",
    "\n",
    " Different people, shared values\n",
    "\n",
    "Arup is an equal opportunity employer that actively promotes and nurtures a diverse and inclusive workforce. We welcome applications from individuals of all backgrounds, regardless of age (within legal limits), gender identity or expression, marital status, disability, neurotype or mental health, race or ethnicity, faith or belief, sexual orientation, socioeconomic background, and whether you’re pregnant or on family leave. We are an open environment that embraces diverse experiences, perspectives, and ideas – this drives our excellence.\n",
    "\n",
    "Guided by our values and alignment with the UN Sustainable Development Goals, we create and contribute to equitable spaces and systems, while cultivating a sense of belonging for all. Our internal employee networks support our inclusive culture: from race, ethnicity and cross-cultural working to gender equity and LGBTQ+ and disability inclusion – we aim to create a space for you to express yourself and make a positive difference. Discover more about life at Arup at www.arup.com/careers/your-life-at-arup.\n",
    "\n",
    "Our internal employee networks support our inclusive culture – from race, ethnicity and cross-cultural working to gender, LGBTQ+ and disability – we aim to create a space for you to express yourself and make a positive difference - Discover more about life at Arup at www.arup.com/careers/your-life-at-arup .\n",
    "\n",
    "Our Toronto office is located on ceded and unceded lands of many nations including the Mississaugas of the Credit, the Anishinabewaki, and the Haudenosaunee (hoe-dee-no-SHOW-nee). We acknowledge this land and its people to build a shared understanding of how our collective past brings us to where we are today. Through our ever-developing commitments, we strive to strengthen our relationships with this land, its people, and its treaties to shape a better, more inclusive world.\n",
    "\"\"\"\n",
    "\n",
    "# Example resume file\n",
    "resume_file = \"Deepanshu_Gupta_resume.pdf\"  # Replace with your file path\n",
    "\n",
    "# Run the match\n",
    "similarity_score, feedback = check_resume_match(resume_file, job_desc_text)"
   ]
  },
  {
   "cell_type": "code",
   "execution_count": null,
   "id": "ff338eb0-9315-43e0-b101-b07cefdd7de5",
   "metadata": {},
   "outputs": [],
   "source": []
  },
  {
   "cell_type": "code",
   "execution_count": null,
   "id": "8b3a8657-b010-4ef8-83c7-36719cea601e",
   "metadata": {},
   "outputs": [],
   "source": []
  }
 ],
 "metadata": {
  "kernelspec": {
   "display_name": "Python 3 (ipykernel)",
   "language": "python",
   "name": "python3"
  },
  "language_info": {
   "codemirror_mode": {
    "name": "ipython",
    "version": 3
   },
   "file_extension": ".py",
   "mimetype": "text/x-python",
   "name": "python",
   "nbconvert_exporter": "python",
   "pygments_lexer": "ipython3",
   "version": "3.9.20"
  }
 },
 "nbformat": 4,
 "nbformat_minor": 5
}
